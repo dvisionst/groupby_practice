{
  "nbformat": 4,
  "nbformat_minor": 0,
  "metadata": {
    "colab": {
      "name": "Group_By.ipynb",
      "provenance": [],
      "collapsed_sections": [],
      "mount_file_id": "1kwP-3qdhDboXk9QxJmk5ZSz09Nv6_gBD",
      "authorship_tag": "ABX9TyN8BBz68ymSp9JYj9bePNn3",
      "include_colab_link": true
    },
    "kernelspec": {
      "name": "python3",
      "display_name": "Python 3"
    },
    "language_info": {
      "name": "python"
    }
  },
  "cells": [
    {
      "cell_type": "markdown",
      "metadata": {
        "id": "view-in-github",
        "colab_type": "text"
      },
      "source": [
        "<a href=\"https://colab.research.google.com/github/dvisionst/groupby_practice/blob/main/Group_By.ipynb\" target=\"_parent\"><img src=\"https://colab.research.google.com/assets/colab-badge.svg\" alt=\"Open In Colab\"/></a>"
      ]
    },
    {
      "cell_type": "markdown",
      "source": [
        "# GroupBy Exercises\n",
        "- Jose Flores\n",
        "- 6/29/2022"
      ],
      "metadata": {
        "id": "4JGVzPXoPvnY"
      }
    },
    {
      "cell_type": "code",
      "execution_count": 146,
      "metadata": {
        "id": "DCQrjH8LPgKs"
      },
      "outputs": [],
      "source": [
        "import pandas as pd\n",
        "\n",
        "url = 'https://raw.githubusercontent.com/mGalarnyk/Tutorial_Data/master/Pandas/CalIt2.data'"
      ]
    },
    {
      "cell_type": "code",
      "source": [
        "uci_df = pd.read_csv(url, header=None)\n",
        "\n",
        "uci_df.keys() # Helps me identify header names and dtypes"
      ],
      "metadata": {
        "colab": {
          "base_uri": "https://localhost:8080/"
        },
        "id": "BALQ0suiQZgA",
        "outputId": "0efe4352-75f4-44d2-87de-797180be71bc"
      },
      "execution_count": 147,
      "outputs": [
        {
          "output_type": "execute_result",
          "data": {
            "text/plain": [
              "Int64Index([0, 1, 2, 3], dtype='int64')"
            ]
          },
          "metadata": {},
          "execution_count": 147
        }
      ]
    },
    {
      "cell_type": "markdown",
      "source": [
        "# Rename Columns\n",
        "Rename column 0 to 'Flow_ID'\n",
        "Rename column 1 to 'Date'\n",
        "Rename column 2 to 'Time'\n",
        "Rename column 3 to 'Count'"
      ],
      "metadata": {
        "id": "8SgwhPwfRZJI"
      }
    },
    {
      "cell_type": "code",
      "source": [
        "# 1. Rename column 0 to 'Flow_ID'\n",
        "# Rename column 1 to 'Date'\n",
        "# Rename column 2 to 'Time'\n",
        "# Rename column 3 to 'Count'\n",
        "\n",
        "uci_df = uci_df.rename(columns={ \n",
        "                                0: 'Flow_ID',\n",
        "                                1: 'Date',\n",
        "                                2: 'Time',\n",
        "                                3: 'Count'\n",
        "    \n",
        "})\n",
        "\n",
        "uci_df.head()# Confirms the column name changes\n",
        "\n"
      ],
      "metadata": {
        "colab": {
          "base_uri": "https://localhost:8080/",
          "height": 206
        },
        "id": "mO7JiXgyRWJK",
        "outputId": "42e4bed9-b299-4356-e611-1daefc0cc961"
      },
      "execution_count": 148,
      "outputs": [
        {
          "output_type": "execute_result",
          "data": {
            "text/plain": [
              "   Flow_ID      Date      Time  Count\n",
              "0        7  07/24/05  00:00:00      0\n",
              "1        9  07/24/05  00:00:00      0\n",
              "2        7  07/24/05  00:30:00      1\n",
              "3        9  07/24/05  00:30:00      0\n",
              "4        7  07/24/05  01:00:00      0"
            ],
            "text/html": [
              "\n",
              "  <div id=\"df-cfe6b5b5-880c-4571-873d-53f69e7557db\">\n",
              "    <div class=\"colab-df-container\">\n",
              "      <div>\n",
              "<style scoped>\n",
              "    .dataframe tbody tr th:only-of-type {\n",
              "        vertical-align: middle;\n",
              "    }\n",
              "\n",
              "    .dataframe tbody tr th {\n",
              "        vertical-align: top;\n",
              "    }\n",
              "\n",
              "    .dataframe thead th {\n",
              "        text-align: right;\n",
              "    }\n",
              "</style>\n",
              "<table border=\"1\" class=\"dataframe\">\n",
              "  <thead>\n",
              "    <tr style=\"text-align: right;\">\n",
              "      <th></th>\n",
              "      <th>Flow_ID</th>\n",
              "      <th>Date</th>\n",
              "      <th>Time</th>\n",
              "      <th>Count</th>\n",
              "    </tr>\n",
              "  </thead>\n",
              "  <tbody>\n",
              "    <tr>\n",
              "      <th>0</th>\n",
              "      <td>7</td>\n",
              "      <td>07/24/05</td>\n",
              "      <td>00:00:00</td>\n",
              "      <td>0</td>\n",
              "    </tr>\n",
              "    <tr>\n",
              "      <th>1</th>\n",
              "      <td>9</td>\n",
              "      <td>07/24/05</td>\n",
              "      <td>00:00:00</td>\n",
              "      <td>0</td>\n",
              "    </tr>\n",
              "    <tr>\n",
              "      <th>2</th>\n",
              "      <td>7</td>\n",
              "      <td>07/24/05</td>\n",
              "      <td>00:30:00</td>\n",
              "      <td>1</td>\n",
              "    </tr>\n",
              "    <tr>\n",
              "      <th>3</th>\n",
              "      <td>9</td>\n",
              "      <td>07/24/05</td>\n",
              "      <td>00:30:00</td>\n",
              "      <td>0</td>\n",
              "    </tr>\n",
              "    <tr>\n",
              "      <th>4</th>\n",
              "      <td>7</td>\n",
              "      <td>07/24/05</td>\n",
              "      <td>01:00:00</td>\n",
              "      <td>0</td>\n",
              "    </tr>\n",
              "  </tbody>\n",
              "</table>\n",
              "</div>\n",
              "      <button class=\"colab-df-convert\" onclick=\"convertToInteractive('df-cfe6b5b5-880c-4571-873d-53f69e7557db')\"\n",
              "              title=\"Convert this dataframe to an interactive table.\"\n",
              "              style=\"display:none;\">\n",
              "        \n",
              "  <svg xmlns=\"http://www.w3.org/2000/svg\" height=\"24px\"viewBox=\"0 0 24 24\"\n",
              "       width=\"24px\">\n",
              "    <path d=\"M0 0h24v24H0V0z\" fill=\"none\"/>\n",
              "    <path d=\"M18.56 5.44l.94 2.06.94-2.06 2.06-.94-2.06-.94-.94-2.06-.94 2.06-2.06.94zm-11 1L8.5 8.5l.94-2.06 2.06-.94-2.06-.94L8.5 2.5l-.94 2.06-2.06.94zm10 10l.94 2.06.94-2.06 2.06-.94-2.06-.94-.94-2.06-.94 2.06-2.06.94z\"/><path d=\"M17.41 7.96l-1.37-1.37c-.4-.4-.92-.59-1.43-.59-.52 0-1.04.2-1.43.59L10.3 9.45l-7.72 7.72c-.78.78-.78 2.05 0 2.83L4 21.41c.39.39.9.59 1.41.59.51 0 1.02-.2 1.41-.59l7.78-7.78 2.81-2.81c.8-.78.8-2.07 0-2.86zM5.41 20L4 18.59l7.72-7.72 1.47 1.35L5.41 20z\"/>\n",
              "  </svg>\n",
              "      </button>\n",
              "      \n",
              "  <style>\n",
              "    .colab-df-container {\n",
              "      display:flex;\n",
              "      flex-wrap:wrap;\n",
              "      gap: 12px;\n",
              "    }\n",
              "\n",
              "    .colab-df-convert {\n",
              "      background-color: #E8F0FE;\n",
              "      border: none;\n",
              "      border-radius: 50%;\n",
              "      cursor: pointer;\n",
              "      display: none;\n",
              "      fill: #1967D2;\n",
              "      height: 32px;\n",
              "      padding: 0 0 0 0;\n",
              "      width: 32px;\n",
              "    }\n",
              "\n",
              "    .colab-df-convert:hover {\n",
              "      background-color: #E2EBFA;\n",
              "      box-shadow: 0px 1px 2px rgba(60, 64, 67, 0.3), 0px 1px 3px 1px rgba(60, 64, 67, 0.15);\n",
              "      fill: #174EA6;\n",
              "    }\n",
              "\n",
              "    [theme=dark] .colab-df-convert {\n",
              "      background-color: #3B4455;\n",
              "      fill: #D2E3FC;\n",
              "    }\n",
              "\n",
              "    [theme=dark] .colab-df-convert:hover {\n",
              "      background-color: #434B5C;\n",
              "      box-shadow: 0px 1px 3px 1px rgba(0, 0, 0, 0.15);\n",
              "      filter: drop-shadow(0px 1px 2px rgba(0, 0, 0, 0.3));\n",
              "      fill: #FFFFFF;\n",
              "    }\n",
              "  </style>\n",
              "\n",
              "      <script>\n",
              "        const buttonEl =\n",
              "          document.querySelector('#df-cfe6b5b5-880c-4571-873d-53f69e7557db button.colab-df-convert');\n",
              "        buttonEl.style.display =\n",
              "          google.colab.kernel.accessAllowed ? 'block' : 'none';\n",
              "\n",
              "        async function convertToInteractive(key) {\n",
              "          const element = document.querySelector('#df-cfe6b5b5-880c-4571-873d-53f69e7557db');\n",
              "          const dataTable =\n",
              "            await google.colab.kernel.invokeFunction('convertToInteractive',\n",
              "                                                     [key], {});\n",
              "          if (!dataTable) return;\n",
              "\n",
              "          const docLinkHtml = 'Like what you see? Visit the ' +\n",
              "            '<a target=\"_blank\" href=https://colab.research.google.com/notebooks/data_table.ipynb>data table notebook</a>'\n",
              "            + ' to learn more about interactive tables.';\n",
              "          element.innerHTML = '';\n",
              "          dataTable['output_type'] = 'display_data';\n",
              "          await google.colab.output.renderOutput(dataTable, element);\n",
              "          const docLink = document.createElement('div');\n",
              "          docLink.innerHTML = docLinkHtml;\n",
              "          element.appendChild(docLink);\n",
              "        }\n",
              "      </script>\n",
              "    </div>\n",
              "  </div>\n",
              "  "
            ]
          },
          "metadata": {},
          "execution_count": 148
        }
      ]
    },
    {
      "cell_type": "markdown",
      "source": [
        "# Selecting Data\n",
        "Select all data for the date July 24 2005 having flow id=7.\n",
        "From the data selected in step 1, sort the result on Count in descending order and output the top 10 rows. Assign the output to a variable named top10.\n"
      ],
      "metadata": {
        "id": "3gI0Af0dTQO5"
      }
    },
    {
      "cell_type": "code",
      "source": [
        "# 2. Select all data for the date July 24 2005 having flow id=7.\n",
        "# From the data selected in step 1, sort the result on Count in descending \n",
        "# order and output the top 10 rows. Assign the output to a variable named top10.\n",
        "\n",
        "top10 = uci_df.sort_values('Count', ascending=False)\n",
        "top10 = top10.head(10)\n",
        "top10"
      ],
      "metadata": {
        "colab": {
          "base_uri": "https://localhost:8080/",
          "height": 363
        },
        "id": "f4dhMu9ETOUG",
        "outputId": "d66e5123-cb9e-4d81-be7c-93e6ab4a7529"
      },
      "execution_count": 149,
      "outputs": [
        {
          "output_type": "execute_result",
          "data": {
            "text/plain": [
              "      Flow_ID      Date      Time  Count\n",
              "6879        9  10/03/05  15:30:00     62\n",
              "335         9  07/27/05  11:30:00     61\n",
              "6881        9  10/03/05  16:00:00     55\n",
              "9682        7  11/01/05  20:30:00     54\n",
              "9686        7  11/01/05  21:30:00     54\n",
              "9681        9  11/01/05  20:00:00     53\n",
              "6878        7  10/03/05  15:30:00     52\n",
              "9933        9  11/04/05  11:00:00     50\n",
              "3615        9  08/30/05  15:30:00     50\n",
              "8913        9  10/24/05  20:00:00     50"
            ],
            "text/html": [
              "\n",
              "  <div id=\"df-23190cf7-7dfc-455e-91c4-5e2ce2f6bc91\">\n",
              "    <div class=\"colab-df-container\">\n",
              "      <div>\n",
              "<style scoped>\n",
              "    .dataframe tbody tr th:only-of-type {\n",
              "        vertical-align: middle;\n",
              "    }\n",
              "\n",
              "    .dataframe tbody tr th {\n",
              "        vertical-align: top;\n",
              "    }\n",
              "\n",
              "    .dataframe thead th {\n",
              "        text-align: right;\n",
              "    }\n",
              "</style>\n",
              "<table border=\"1\" class=\"dataframe\">\n",
              "  <thead>\n",
              "    <tr style=\"text-align: right;\">\n",
              "      <th></th>\n",
              "      <th>Flow_ID</th>\n",
              "      <th>Date</th>\n",
              "      <th>Time</th>\n",
              "      <th>Count</th>\n",
              "    </tr>\n",
              "  </thead>\n",
              "  <tbody>\n",
              "    <tr>\n",
              "      <th>6879</th>\n",
              "      <td>9</td>\n",
              "      <td>10/03/05</td>\n",
              "      <td>15:30:00</td>\n",
              "      <td>62</td>\n",
              "    </tr>\n",
              "    <tr>\n",
              "      <th>335</th>\n",
              "      <td>9</td>\n",
              "      <td>07/27/05</td>\n",
              "      <td>11:30:00</td>\n",
              "      <td>61</td>\n",
              "    </tr>\n",
              "    <tr>\n",
              "      <th>6881</th>\n",
              "      <td>9</td>\n",
              "      <td>10/03/05</td>\n",
              "      <td>16:00:00</td>\n",
              "      <td>55</td>\n",
              "    </tr>\n",
              "    <tr>\n",
              "      <th>9682</th>\n",
              "      <td>7</td>\n",
              "      <td>11/01/05</td>\n",
              "      <td>20:30:00</td>\n",
              "      <td>54</td>\n",
              "    </tr>\n",
              "    <tr>\n",
              "      <th>9686</th>\n",
              "      <td>7</td>\n",
              "      <td>11/01/05</td>\n",
              "      <td>21:30:00</td>\n",
              "      <td>54</td>\n",
              "    </tr>\n",
              "    <tr>\n",
              "      <th>9681</th>\n",
              "      <td>9</td>\n",
              "      <td>11/01/05</td>\n",
              "      <td>20:00:00</td>\n",
              "      <td>53</td>\n",
              "    </tr>\n",
              "    <tr>\n",
              "      <th>6878</th>\n",
              "      <td>7</td>\n",
              "      <td>10/03/05</td>\n",
              "      <td>15:30:00</td>\n",
              "      <td>52</td>\n",
              "    </tr>\n",
              "    <tr>\n",
              "      <th>9933</th>\n",
              "      <td>9</td>\n",
              "      <td>11/04/05</td>\n",
              "      <td>11:00:00</td>\n",
              "      <td>50</td>\n",
              "    </tr>\n",
              "    <tr>\n",
              "      <th>3615</th>\n",
              "      <td>9</td>\n",
              "      <td>08/30/05</td>\n",
              "      <td>15:30:00</td>\n",
              "      <td>50</td>\n",
              "    </tr>\n",
              "    <tr>\n",
              "      <th>8913</th>\n",
              "      <td>9</td>\n",
              "      <td>10/24/05</td>\n",
              "      <td>20:00:00</td>\n",
              "      <td>50</td>\n",
              "    </tr>\n",
              "  </tbody>\n",
              "</table>\n",
              "</div>\n",
              "      <button class=\"colab-df-convert\" onclick=\"convertToInteractive('df-23190cf7-7dfc-455e-91c4-5e2ce2f6bc91')\"\n",
              "              title=\"Convert this dataframe to an interactive table.\"\n",
              "              style=\"display:none;\">\n",
              "        \n",
              "  <svg xmlns=\"http://www.w3.org/2000/svg\" height=\"24px\"viewBox=\"0 0 24 24\"\n",
              "       width=\"24px\">\n",
              "    <path d=\"M0 0h24v24H0V0z\" fill=\"none\"/>\n",
              "    <path d=\"M18.56 5.44l.94 2.06.94-2.06 2.06-.94-2.06-.94-.94-2.06-.94 2.06-2.06.94zm-11 1L8.5 8.5l.94-2.06 2.06-.94-2.06-.94L8.5 2.5l-.94 2.06-2.06.94zm10 10l.94 2.06.94-2.06 2.06-.94-2.06-.94-.94-2.06-.94 2.06-2.06.94z\"/><path d=\"M17.41 7.96l-1.37-1.37c-.4-.4-.92-.59-1.43-.59-.52 0-1.04.2-1.43.59L10.3 9.45l-7.72 7.72c-.78.78-.78 2.05 0 2.83L4 21.41c.39.39.9.59 1.41.59.51 0 1.02-.2 1.41-.59l7.78-7.78 2.81-2.81c.8-.78.8-2.07 0-2.86zM5.41 20L4 18.59l7.72-7.72 1.47 1.35L5.41 20z\"/>\n",
              "  </svg>\n",
              "      </button>\n",
              "      \n",
              "  <style>\n",
              "    .colab-df-container {\n",
              "      display:flex;\n",
              "      flex-wrap:wrap;\n",
              "      gap: 12px;\n",
              "    }\n",
              "\n",
              "    .colab-df-convert {\n",
              "      background-color: #E8F0FE;\n",
              "      border: none;\n",
              "      border-radius: 50%;\n",
              "      cursor: pointer;\n",
              "      display: none;\n",
              "      fill: #1967D2;\n",
              "      height: 32px;\n",
              "      padding: 0 0 0 0;\n",
              "      width: 32px;\n",
              "    }\n",
              "\n",
              "    .colab-df-convert:hover {\n",
              "      background-color: #E2EBFA;\n",
              "      box-shadow: 0px 1px 2px rgba(60, 64, 67, 0.3), 0px 1px 3px 1px rgba(60, 64, 67, 0.15);\n",
              "      fill: #174EA6;\n",
              "    }\n",
              "\n",
              "    [theme=dark] .colab-df-convert {\n",
              "      background-color: #3B4455;\n",
              "      fill: #D2E3FC;\n",
              "    }\n",
              "\n",
              "    [theme=dark] .colab-df-convert:hover {\n",
              "      background-color: #434B5C;\n",
              "      box-shadow: 0px 1px 3px 1px rgba(0, 0, 0, 0.15);\n",
              "      filter: drop-shadow(0px 1px 2px rgba(0, 0, 0, 0.3));\n",
              "      fill: #FFFFFF;\n",
              "    }\n",
              "  </style>\n",
              "\n",
              "      <script>\n",
              "        const buttonEl =\n",
              "          document.querySelector('#df-23190cf7-7dfc-455e-91c4-5e2ce2f6bc91 button.colab-df-convert');\n",
              "        buttonEl.style.display =\n",
              "          google.colab.kernel.accessAllowed ? 'block' : 'none';\n",
              "\n",
              "        async function convertToInteractive(key) {\n",
              "          const element = document.querySelector('#df-23190cf7-7dfc-455e-91c4-5e2ce2f6bc91');\n",
              "          const dataTable =\n",
              "            await google.colab.kernel.invokeFunction('convertToInteractive',\n",
              "                                                     [key], {});\n",
              "          if (!dataTable) return;\n",
              "\n",
              "          const docLinkHtml = 'Like what you see? Visit the ' +\n",
              "            '<a target=\"_blank\" href=https://colab.research.google.com/notebooks/data_table.ipynb>data table notebook</a>'\n",
              "            + ' to learn more about interactive tables.';\n",
              "          element.innerHTML = '';\n",
              "          dataTable['output_type'] = 'display_data';\n",
              "          await google.colab.output.renderOutput(dataTable, element);\n",
              "          const docLink = document.createElement('div');\n",
              "          docLink.innerHTML = docLinkHtml;\n",
              "          element.appendChild(docLink);\n",
              "        }\n",
              "      </script>\n",
              "    </div>\n",
              "  </div>\n",
              "  "
            ]
          },
          "metadata": {},
          "execution_count": 149
        }
      ]
    },
    {
      "cell_type": "markdown",
      "source": [
        "# Apply Function\n",
        "For the 10 rows outputted above, use Pandas Apply function to subtract lowest value of the 10 from all of them and then output the average value of the resulting counts"
      ],
      "metadata": {
        "id": "8PtU3BnmUUpP"
      }
    },
    {
      "cell_type": "code",
      "source": [
        "# 3. For the 10 rows outputted above, use Pandas Apply function to subtract \n",
        "# lowest value of the 10 from all of them and then output the average value of \n",
        "# the resulting counts \n",
        "\n",
        "\n",
        "\n",
        "lowest_value = top10['Count'].min()\n",
        "\n",
        "top10.drop(top10[top10['Count'] == lowest_value].index, inplace=True)\n",
        "print(f\"{top10}\\n\") # Shows that the rows with min value were removed\n",
        "top10['Count'].mean().round(2)\n",
        "\n",
        "\n"
      ],
      "metadata": {
        "id": "e4ZDq3s5UbXc",
        "colab": {
          "base_uri": "https://localhost:8080/"
        },
        "outputId": "9fa0c656-0356-4133-dc63-b8752b667fa0"
      },
      "execution_count": 150,
      "outputs": [
        {
          "output_type": "stream",
          "name": "stdout",
          "text": [
            "      Flow_ID      Date      Time  Count\n",
            "6879        9  10/03/05  15:30:00     62\n",
            "335         9  07/27/05  11:30:00     61\n",
            "6881        9  10/03/05  16:00:00     55\n",
            "9682        7  11/01/05  20:30:00     54\n",
            "9686        7  11/01/05  21:30:00     54\n",
            "9681        9  11/01/05  20:00:00     53\n",
            "6878        7  10/03/05  15:30:00     52\n",
            "\n"
          ]
        },
        {
          "output_type": "execute_result",
          "data": {
            "text/plain": [
              "55.86"
            ]
          },
          "metadata": {},
          "execution_count": 150
        }
      ]
    },
    {
      "cell_type": "code",
      "source": [
        "# Select data in the month of August 2005 having flow id=7\n",
        "# Group the data based on date and get the max count per date\n",
        "# Turn in a .ipynb file with your solutions!\n",
        "\n",
        "august = uci_df['Date'].str.startswith('08') \n",
        "flow_7 = uci_df['Flow_ID'] == 7\n",
        "august_uci_df = uci_df[august & flow_7]\n",
        "august_uci_df.groupby('Date')['Count'].max()\n",
        "\n"
      ],
      "metadata": {
        "colab": {
          "base_uri": "https://localhost:8080/"
        },
        "id": "CODDeVZzXwds",
        "outputId": "5390fc3e-d1d0-4999-e765-c2704139a796"
      },
      "execution_count": 151,
      "outputs": [
        {
          "output_type": "execute_result",
          "data": {
            "text/plain": [
              "Date\n",
              "08/01/05    18\n",
              "08/02/05    16\n",
              "08/03/05    26\n",
              "08/04/05    40\n",
              "08/05/05    17\n",
              "08/06/05     8\n",
              "08/07/05     3\n",
              "08/08/05    16\n",
              "08/09/05    19\n",
              "08/10/05    25\n",
              "08/11/05    16\n",
              "08/12/05    21\n",
              "08/13/05     5\n",
              "08/14/05     3\n",
              "08/15/05    17\n",
              "08/16/05    24\n",
              "08/17/05    22\n",
              "08/18/05    39\n",
              "08/19/05    23\n",
              "08/20/05     3\n",
              "08/21/05     4\n",
              "08/22/05    23\n",
              "08/23/05    25\n",
              "08/24/05    17\n",
              "08/25/05    24\n",
              "08/26/05    22\n",
              "08/27/05     3\n",
              "08/28/05     7\n",
              "08/29/05    15\n",
              "08/30/05    47\n",
              "08/31/05    19\n",
              "Name: Count, dtype: int64"
            ]
          },
          "metadata": {},
          "execution_count": 151
        }
      ]
    },
    {
      "cell_type": "markdown",
      "source": [
        ""
      ],
      "metadata": {
        "id": "iNQaohO3PtPC"
      }
    }
  ]
}